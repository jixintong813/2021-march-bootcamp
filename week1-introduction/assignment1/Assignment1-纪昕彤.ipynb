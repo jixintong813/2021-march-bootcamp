{
 "cells": [
  {
   "cell_type": "code",
   "execution_count": 1,
   "metadata": {},
   "outputs": [
    {
     "ename": "IndentationError",
     "evalue": "expected an indented block (<ipython-input-1-df7b71addcbb>, line 46)",
     "output_type": "error",
     "traceback": [
      "\u001b[1;36m  File \u001b[1;32m\"<ipython-input-1-df7b71addcbb>\"\u001b[1;36m, line \u001b[1;32m46\u001b[0m\n\u001b[1;33m    if year % 400 == 0 or (year % 4 == 0 and year % 100 != 0):\u001b[0m\n\u001b[1;37m    ^\u001b[0m\n\u001b[1;31mIndentationError\u001b[0m\u001b[1;31m:\u001b[0m expected an indented block\n"
     ]
    }
   ],
   "source": [
    "# Assignment 1\n",
    "# This assignment is for exercising Python fundamental I and getting familiar with Python syntax.\n",
    "\n",
    "# 注意 - Copy this file and rename as assignment1-{first_name}.py then complete code with a PR.\n",
    "# 注意 - Copy this file and rename as assignment1-{first_name}.py then complete code with a PR.\n",
    "# 注意 - Copy this file and rename as assignment1-{first_name}.py then complete code with a PR.\n",
    "\n",
    "# Q1. Write a program which can compute the factorial of a given numbers.\n",
    "\n",
    "\n",
    "def factorial(x: int) -> int:\n",
    "    if x>=0:\n",
    "        if x==0 or x==1:\n",
    "            return 1\n",
    "        else:\n",
    "            return(x * factorial(x-1))\n",
    "    else: print(\"There is no result.\")\n",
    "\n",
    "\n",
    "assert factorial(0) == 1\n",
    "assert factorial(1) == 1\n",
    "assert factorial(9) == 362880\n",
    "\n",
    "\n",
    "# Q2. Write a program which take a num and print a str as the sum of all numbers from 1 to this number\n",
    "# [1 + 2 + ... + x] and x is always >= 1.\n",
    "\n",
    "def print_sum(x: int) -> str:\n",
    "    return str(_sum(x))\n",
    "\n",
    "def _sum(x):\n",
    "    if x == 1:\n",
    "        return 1\n",
    "    return x + _sum(x - 1)\n",
    "\n",
    "\n",
    "assert print_sum(1) == \"1\"\n",
    "assert print_sum(3) == \"6\"\n",
    "assert print_sum(5) == \"15\"\n",
    "\n",
    "\n",
    "# Q3. Write a program to check is a year is leap year (x is always > 0)\n",
    "\n",
    "def is_leap_year(year: int) -> bool:\n",
    "    def is_leap_year(year: int) -> bool:\n",
    "    if year % 400 == 0 or (year % 4 == 0 and year % 100 != 0):\n",
    "         return print(\"leap year\")\n",
    "    return print(\"not leap year\")\n",
    "\n",
    "\n",
    "assert is_leap_year(2000)\n",
    "assert is_leap_year(1996)\n",
    "assert not is_leap_year(1900)\n",
    "assert not is_leap_year(2001)\n",
    "\n",
    "\n",
    "# Q4. Write a program to convert a list of lowercase words to uppercase words.\n",
    "\n",
    "def to_upper_case(words: [str]) -> [str]:\n",
    "    w=list(map(str.upper,words))\n",
    "    return w\n",
    "\n",
    "\n",
    "assert to_upper_case([\"abc\", \"de\"]) == [\"ABC\", \"DE\"]\n",
    "assert to_upper_case([\"Amazon\", \"Apple\"]) == [\"AMAZON\", \"APPLE\"]\n",
    "\n",
    "\n",
    "# Q5. Write a program to use only 'and' and 'or' to implement 'xor'\n",
    "# https://baike.baidu.com/item/%E5%BC%82%E6%88%96/10993677?fromtitle=xor&fromid=64178\n",
    "\n",
    "def xor(a: bool, b: bool) -> bool:\n",
    "    return a != b\n",
    "\n",
    "\n",
    "assert not xor(True, True)\n",
    "assert xor(True, False)\n",
    "assert xor(False, True)\n",
    "assert not xor(False, False)"
   ]
  },
  {
   "cell_type": "code",
   "execution_count": null,
   "metadata": {},
   "outputs": [],
   "source": []
  }
 ],
 "metadata": {
  "kernelspec": {
   "display_name": "Python 3",
   "language": "python",
   "name": "python3"
  },
  "language_info": {
   "codemirror_mode": {
    "name": "ipython",
    "version": 3
   },
   "file_extension": ".py",
   "mimetype": "text/x-python",
   "name": "python",
   "nbconvert_exporter": "python",
   "pygments_lexer": "ipython3",
   "version": "3.8.5"
  }
 },
 "nbformat": 4,
 "nbformat_minor": 4
}
